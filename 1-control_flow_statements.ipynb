{
 "cells": [
  {
   "cell_type": "markdown",
   "metadata": {},
   "source": [
    "### Let's build a crew for the ship Serenity."
   ]
  },
  {
   "cell_type": "code",
   "execution_count": null,
   "metadata": {},
   "outputs": [],
   "source": [
    "import numpy as np\n",
    "import pandas as pd\n",
    "import random"
   ]
  },
  {
   "cell_type": "code",
   "execution_count": null,
   "metadata": {},
   "outputs": [],
   "source": [
    "jobs = ['psychic genius', 'mercenary', 'captain', 'engineer', 'pilot', 'companion', \n",
    "       'first mate', 'shepherd', 'doctor']"
   ]
  },
  {
   "cell_type": "code",
   "execution_count": null,
   "metadata": {},
   "outputs": [],
   "source": [
    "people = ['River', 'Janye', 'Malcolm', 'Kaylee', 'Wash', 'Inara', 'Zoe', 'Shepherd', 'Simon']\n",
    "\n",
    "things = ['shoe', 'backpack', 'watch', 'chair', 'car', 'ship', 'ladder', 'boat']\n",
    "\n",
    "animals = ['cat', 'dog', 'bird', 'bunny', 'snake', 'cow', 'horse', 'fish']\n",
    "\n",
    "food = ['bread', 'carrot', 'cheese', 'rice', 'lettuce', 'tomato', 'spam', 'chocolate']"
   ]
  },
  {
   "cell_type": "markdown",
   "metadata": {},
   "source": [
    "### A basic for loop"
   ]
  },
  {
   "cell_type": "code",
   "execution_count": null,
   "metadata": {},
   "outputs": [],
   "source": [
    "mystery = random.sample(people + things + animals + food, 5)"
   ]
  },
  {
   "cell_type": "code",
   "execution_count": null,
   "metadata": {},
   "outputs": [],
   "source": [
    "mystery"
   ]
  },
  {
   "cell_type": "code",
   "execution_count": null,
   "metadata": {},
   "outputs": [],
   "source": [
    "for mystery_item in mystery:\n",
    "    \n",
    "    print(mystery_item)"
   ]
  },
  {
   "cell_type": "markdown",
   "metadata": {},
   "source": [
    "### Q: How do I perform different operations on different items in a loop?"
   ]
  },
  {
   "cell_type": "markdown",
   "metadata": {},
   "source": [
    "### A: if...elif...else"
   ]
  },
  {
   "cell_type": "code",
   "execution_count": null,
   "metadata": {},
   "outputs": [],
   "source": [
    "for mystery_item in mystery:\n",
    "    \n",
    "    if mystery_item in people:\n",
    "        print(mystery_item, \"is a person\")\n",
    "        \n",
    "    elif mystery_item in things:\n",
    "        print(mystery_item, \"is a thing\")\n",
    "        \n",
    "    elif mystery_item in animals:\n",
    "        print(mystery_item, \"is an animal\")\n",
    "        \n",
    "    elif mystery_item in food:\n",
    "        print(mystery_item, \"is a food\")\n",
    "        \n",
    "    else: print(\"uh oh\")\n",
    "    print(\" \")"
   ]
  },
  {
   "cell_type": "markdown",
   "metadata": {},
   "source": [
    "### Q: Why would I ever want to use a while loop?"
   ]
  },
  {
   "cell_type": "markdown",
   "metadata": {},
   "source": [
    "### A: When you do not know how many iterations you need"
   ]
  },
  {
   "cell_type": "code",
   "execution_count": null,
   "metadata": {},
   "outputs": [],
   "source": [
    "serenity_crew = ['Malcolm']\n",
    "\n",
    "while len(serenity_crew) < 4:\n",
    "    \n",
    "    mystery = random.sample(people + things + animals + food, 4)\n",
    "    \n",
    "    for mystery_item in mystery:\n",
    "        \n",
    "        if (mystery_item in people):\n",
    "            \n",
    "            print(mystery_item, \"is joining the crew!\")\n",
    "            \n",
    "            serenity_crew.append(mystery_item)"
   ]
  },
  {
   "cell_type": "markdown",
   "metadata": {},
   "source": [
    "### This code can cause problems...let's make it more robust.  We don't want to add the same person to the crew more than once."
   ]
  },
  {
   "cell_type": "code",
   "execution_count": null,
   "metadata": {},
   "outputs": [],
   "source": [
    "serenity_crew"
   ]
  },
  {
   "cell_type": "markdown",
   "metadata": {},
   "source": [
    "### Q: How do I skip an iteration of the loop based on a condition?"
   ]
  },
  {
   "cell_type": "markdown",
   "metadata": {},
   "source": [
    "### A: continue"
   ]
  },
  {
   "cell_type": "code",
   "execution_count": null,
   "metadata": {},
   "outputs": [],
   "source": [
    "serenity_crew = ['Malcolm']\n",
    "\n",
    "while len(serenity_crew) < 4:\n",
    "    \n",
    "    mystery = random.sample(people + things + animals + food, 4)\n",
    "    \n",
    "    for mystery_item in mystery:\n",
    "        \n",
    "        if (mystery_item in serenity_crew):\n",
    "            \n",
    "            continue\n",
    "            \n",
    "        if (mystery_item in people):\n",
    "            \n",
    "            print(mystery_item, \"is joining the crew!\")\n",
    "            \n",
    "            serenity_crew.append(mystery_item)"
   ]
  },
  {
   "cell_type": "code",
   "execution_count": null,
   "metadata": {},
   "outputs": [],
   "source": [
    "serenity_crew"
   ]
  },
  {
   "cell_type": "markdown",
   "metadata": {},
   "source": [
    "### Q: How do I exit a for loop early if a condition is met?"
   ]
  },
  {
   "cell_type": "markdown",
   "metadata": {},
   "source": [
    "### A: break"
   ]
  },
  {
   "cell_type": "markdown",
   "metadata": {},
   "source": [
    "### Let's say we only want exactly four crew members"
   ]
  },
  {
   "cell_type": "code",
   "execution_count": null,
   "metadata": {},
   "outputs": [],
   "source": [
    "serenity_crew = ['Malcolm']\n",
    "\n",
    "while len(serenity_crew) < 4:\n",
    "    \n",
    "    mystery = random.sample(people + things + animals + food, 4)\n",
    "    \n",
    "    for mystery_item in mystery:\n",
    "        \n",
    "        if (mystery_item in serenity_crew):\n",
    "            \n",
    "            continue\n",
    "            \n",
    "        if (mystery_item in people):\n",
    "            \n",
    "            print(mystery_item, \"is joining the crew!\")\n",
    "            \n",
    "            serenity_crew.append(mystery_item)\n",
    "            \n",
    "        if len(serenity_crew) >= 4:\n",
    "            \n",
    "            break"
   ]
  },
  {
   "cell_type": "markdown",
   "metadata": {},
   "source": [
    "### Q: How do I control error handling?"
   ]
  },
  {
   "cell_type": "markdown",
   "metadata": {},
   "source": [
    "### A: try...except"
   ]
  },
  {
   "cell_type": "code",
   "execution_count": null,
   "metadata": {},
   "outputs": [],
   "source": [
    "job_dict = dict(zip(jobs, people))\n",
    "job_dict"
   ]
  },
  {
   "cell_type": "code",
   "execution_count": null,
   "metadata": {},
   "outputs": [],
   "source": [
    "import inflect\n",
    "p = inflect.engine()"
   ]
  },
  {
   "cell_type": "markdown",
   "metadata": {},
   "source": [
    "### Let's find out what order the crew members joined."
   ]
  },
  {
   "cell_type": "markdown",
   "metadata": {},
   "source": [
    "### Will the code below work?"
   ]
  },
  {
   "cell_type": "code",
   "execution_count": null,
   "metadata": {},
   "outputs": [],
   "source": [
    "for job in jobs:\n",
    "    \n",
    "    person = job_dict[job]\n",
    "    \n",
    "    order = p.ordinal(serenity_crew.index(person))\n",
    "    \n",
    "    print('The', job, 'joined the crew', order)"
   ]
  },
  {
   "cell_type": "markdown",
   "metadata": {},
   "source": [
    "### Let's re-write this to ignore the error"
   ]
  },
  {
   "cell_type": "code",
   "execution_count": null,
   "metadata": {},
   "outputs": [],
   "source": [
    "for job in jobs:\n",
    "    \n",
    "    person = job_dict[job]\n",
    "    \n",
    "    try:\n",
    "        order = p.ordinal(serenity_crew.index(person) + 1)\n",
    "        \n",
    "    except: \n",
    "        \n",
    "        continue\n",
    "        \n",
    "    print('The', job, 'joined the crew', order)"
   ]
  }
 ],
 "metadata": {
  "kernelspec": {
   "display_name": "Python 3",
   "language": "python",
   "name": "python3"
  },
  "language_info": {
   "codemirror_mode": {
    "name": "ipython",
    "version": 3
   },
   "file_extension": ".py",
   "mimetype": "text/x-python",
   "name": "python",
   "nbconvert_exporter": "python",
   "pygments_lexer": "ipython3",
   "version": "3.7.3"
  }
 },
 "nbformat": 4,
 "nbformat_minor": 2
}
